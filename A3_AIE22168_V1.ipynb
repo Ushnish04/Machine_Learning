{
  "nbformat": 4,
  "nbformat_minor": 0,
  "metadata": {
    "colab": {
      "provenance": []
    },
    "kernelspec": {
      "name": "python3",
      "display_name": "Python 3"
    },
    "language_info": {
      "name": "python"
    }
  },
  "cells": [
    {
      "cell_type": "code",
      "execution_count": null,
      "metadata": {
        "colab": {
          "base_uri": "https://localhost:8080/"
        },
        "id": "9CZZIafMpttz",
        "outputId": "b2f93eaa-1d09-4cbb-f1e7-05f75b30743a"
      },
      "outputs": [
        {
          "output_type": "stream",
          "name": "stdout",
          "text": [
            "Matrix A:\n",
            "[[20  6  2]\n",
            " [16  3  6]\n",
            " [27  6  2]\n",
            " [19  1  2]\n",
            " [24  4  2]\n",
            " [22  1  5]\n",
            " [15  4  2]\n",
            " [18  4  2]\n",
            " [21  1  4]\n",
            " [16  2  4]]\n",
            "\n",
            "Matrix C:\n",
            "[[386]\n",
            " [289]\n",
            " [393]\n",
            " [110]\n",
            " [280]\n",
            " [167]\n",
            " [271]\n",
            " [274]\n",
            " [148]\n",
            " [198]]\n",
            "\n",
            "Dimensionality of the vector space for Matrix A: (10, 3)\n",
            "Number of vectors in the vector space for Matrix A: 10\n",
            "Rank of Matrix A: 3\n",
            "\n",
            "Pseudo-inverse of Matrix A:\n",
            "[[-0.01008596 -0.03124505  0.01013951  0.0290728   0.0182907   0.01161794\n",
            "  -0.00771348  0.00095458  0.01743623 -0.00542016]\n",
            " [ 0.09059668  0.07263726  0.03172933 -0.09071908 -0.01893196 -0.06926996\n",
            "   0.05675464  0.03152577 -0.07641966  0.00357352]\n",
            " [ 0.00299878  0.15874243 -0.05795468 -0.06609024 -0.06295043  0.03348017\n",
            "   0.01541831 -0.01070461  0.00029003  0.05938755]]\n"
          ]
        }
      ],
      "source": [
        "import numpy as np\n",
        "import pandas as pd\n",
        "\n",
        "# Load the data from the Excel file into a DataFrame\n",
        "excel_file_path = '/content/Lab Session1 Data.xlsx'\n",
        "df = pd.read_excel(excel_file_path)\n",
        "\n",
        "\n",
        "# Matrix A contains the independent variables of the dataset\n",
        "# Matrix C contains the dependent variables of the dataset\n",
        "matrix_A = df[['Candies (#)', 'Mangoes (Kg)', 'Milk Packets (#)']].values\n",
        "matrix_C = df[['Payment (Rs)']].values\n",
        "\n",
        "# Print the matrices\n",
        "print(\"Matrix A:\")\n",
        "print(matrix_A)\n",
        "print(\"\\nMatrix C:\")\n",
        "print(matrix_C)\n",
        "\n",
        "# Calculate the dimensionality of the vector space for Matrix A\n",
        "dimensionality_A = matrix_A.shape\n",
        "print(\"\\nDimensionality of the vector space for Matrix A:\", dimensionality_A)\n",
        "\n",
        "# Calculate the number of vectors in the vector space\n",
        "num_vectors_A = matrix_A.shape[0]\n",
        "print(\"Number of vectors in the vector space for Matrix A:\", num_vectors_A)\n",
        "\n",
        "\n",
        "rank_A = np.linalg.matrix_rank(matrix_A)\n",
        "print(\"Rank of Matrix A:\", rank_A)\n",
        "\n",
        "# Calculate the pseudo-inverse of Matrix A\n",
        "A_pseudo_inverse = np.linalg.pinv(matrix_A)\n",
        "\n",
        "print(\"\\nPseudo-inverse of Matrix A:\")\n",
        "print(A_pseudo_inverse)\n"
      ]
    },
    {
      "cell_type": "code",
      "source": [
        "import numpy as np\n",
        "import pandas as pd\n",
        "\n",
        "# Load the data from the Excel file into a DataFrame\n",
        "excel_file_path = '/content/Lab Session1 Data.xlsx'\n",
        "df = pd.read_excel(excel_file_path)\n",
        "\n",
        "# Extract Matrix A and Matrix C\n",
        "# Matrix A contains the independent variables of the dataset\n",
        "# Matrix C contains the dependent variables of the dataset\n",
        "matrix_A = df[['Candies (#)', 'Mangoes (Kg)', 'Milk Packets (#)']].values\n",
        "matrix_C = df[['Payment (Rs)']].values\n",
        "\n",
        "# Calculate the pseudo-inverse of Matrix A\n",
        "A_pseudo_inverse = np.linalg.pinv(matrix_A)\n",
        "\n",
        "# Calculate the model vector X\n",
        "model_vector_X = np.dot(A_pseudo_inverse, matrix_C)\n",
        "\n",
        "# Print the model vector X\n",
        "print(\"Model Vector X:\")\n",
        "print(model_vector_X)\n"
      ],
      "metadata": {
        "colab": {
          "base_uri": "https://localhost:8080/"
        },
        "id": "CRONv4CYrjE1",
        "outputId": "10d19b6d-cf14-4f4c-ea17-7161c81b6d31"
      },
      "execution_count": null,
      "outputs": [
        {
          "output_type": "stream",
          "name": "stdout",
          "text": [
            "Model Vector X:\n",
            "[[ 1.]\n",
            " [55.]\n",
            " [18.]]\n"
          ]
        }
      ]
    },
    {
      "cell_type": "code",
      "source": [
        "import numpy as np\n",
        "import pandas as pd\n",
        "\n",
        "# Load the data from the Excel file into a DataFrame\n",
        "excel_file_path = '/content/Lab Session1 Data.xlsx'\n",
        "df = pd.read_excel(excel_file_path)\n",
        "\n",
        "# Create a binary target variable 'Class' based on payments above Rs. 200\n",
        "df['Class'] = np.where(df['Payment (Rs)'] > 200, 'RICH', 'POOR')\n",
        "\n",
        "# Select features (independent variables)\n",
        "features = df[['Candies (#)', 'Mangoes (Kg)', 'Milk Packets (#)']].to_numpy()\n",
        "\n",
        "# Standardize the features\n",
        "features_mean = np.mean(features, axis=0)\n",
        "features_std = np.std(features, axis=0)\n",
        "features_scaled = (features - features_mean) / features_std\n",
        "\n",
        "# Initialize and classify using the KNN model\n",
        "def knn_classify(X, y, k):\n",
        "    classifications = []\n",
        "    for i in range(len(X)):\n",
        "        # Calculate distances to all other points\n",
        "        distances = [np.linalg.norm(X[i] - X[j]) for j in range(len(X))]\n",
        "\n",
        "        # Sort distances and get indices of k-nearest neighbors\n",
        "        sorted_indices = sorted(range(len(distances)), key=lambda x: distances[x])\n",
        "        k_nearest_indices = sorted_indices[1:k+1]  # Exclude the point itself\n",
        "\n",
        "        # Count occurrences of each class in the k-nearest neighbors\n",
        "        class_counts = {label: 0 for label in np.unique(y)}\n",
        "        for idx in k_nearest_indices:\n",
        "            class_counts[y[idx]] += 1\n",
        "\n",
        "        # Assign the class with the highest count as the classification\n",
        "        classified_label = max(class_counts, key=class_counts.get)\n",
        "        classifications.append(classified_label)\n",
        "    return classifications\n",
        "\n",
        "# Assuming k=3 for the nearest neighbors\n",
        "k = 3\n",
        "classified_classes = knn_classify(features_scaled, df['Class'].to_numpy(), k)\n",
        "\n",
        "# Add the classified class to the DataFrame\n",
        "df['Classified_Class'] = classified_classes\n",
        "\n",
        "# Print the DataFrame with classified classes\n",
        "print(df[['Candies (#)', 'Mangoes (Kg)', 'Milk Packets (#)', 'Payment (Rs)', 'Class', 'Classified_Class']])\n"
      ],
      "metadata": {
        "colab": {
          "base_uri": "https://localhost:8080/"
        },
        "id": "5-r6mZA8ryuG",
        "outputId": "15098206-1e18-409d-af9d-58d86fe74db5"
      },
      "execution_count": 13,
      "outputs": [
        {
          "output_type": "stream",
          "name": "stdout",
          "text": [
            "   Candies (#)  Mangoes (Kg)  Milk Packets (#)  Payment (Rs) Class  \\\n",
            "0           20             6                 2           386  RICH   \n",
            "1           16             3                 6           289  RICH   \n",
            "2           27             6                 2           393  RICH   \n",
            "3           19             1                 2           110  POOR   \n",
            "4           24             4                 2           280  RICH   \n",
            "5           22             1                 5           167  POOR   \n",
            "6           15             4                 2           271  RICH   \n",
            "7           18             4                 2           274  RICH   \n",
            "8           21             1                 4           148  POOR   \n",
            "9           16             2                 4           198  POOR   \n",
            "\n",
            "  Classified_Class  \n",
            "0             RICH  \n",
            "1             POOR  \n",
            "2             RICH  \n",
            "3             POOR  \n",
            "4             RICH  \n",
            "5             POOR  \n",
            "6             RICH  \n",
            "7             RICH  \n",
            "8             POOR  \n",
            "9             POOR  \n"
          ]
        }
      ]
    },
    {
      "cell_type": "code",
      "source": [
        "import pandas as pd\n",
        "import statistics\n",
        "\n",
        "# Load the data from the Excel file into a DataFrame\n",
        "excel_file_path = '/content/Lab Session1 Data.xlsx'\n",
        "df = pd.read_excel(excel_file_path, sheet_name='IRCTC Stock Price')\n",
        "\n",
        "# Assuming column D is the 'Price' column\n",
        "price_data = df['Price']\n",
        "\n",
        "# Calculate the mean and variance using statistics module\n",
        "mean_price = statistics.mean(price_data)\n",
        "variance_price = statistics.variance(price_data)\n",
        "\n",
        "# Print the results\n",
        "print(\"Mean of Price:\", mean_price)\n",
        "print(\"Variance of Price:\", variance_price)\n"
      ],
      "metadata": {
        "colab": {
          "base_uri": "https://localhost:8080/"
        },
        "id": "Oqwm2vJwu31-",
        "outputId": "1e640f5f-9665-4b8a-a42b-81cccf04ec06"
      },
      "execution_count": null,
      "outputs": [
        {
          "output_type": "stream",
          "name": "stdout",
          "text": [
            "Mean of Price: 1560.663453815261\n",
            "Variance of Price: 58732.365352539186\n"
          ]
        }
      ]
    },
    {
      "cell_type": "code",
      "source": [
        "import pandas as pd\n",
        "\n",
        "# Load the data from the Excel file into a DataFrame\n",
        "excel_file_path = '/content/Lab Session1 Data.xlsx'\n",
        "df = pd.read_excel(excel_file_path, sheet_name='IRCTC Stock Price')\n",
        "\n",
        "# Assuming column D is the 'Price' column and column A is the 'Date' column\n",
        "# Adjust the column names accordingly based on your data\n",
        "df['Date'] = pd.to_datetime(df['Date'])  # Convert 'Date' column to datetime\n",
        "\n",
        "# Select the price data for all Wednesdays\n",
        "wednesday_prices = df[df['Date'].dt.day_name() == 'Wednesday']['Price']\n",
        "\n",
        "# Calculate the sample mean for Wednesdays\n",
        "sample_mean_wednesday = wednesday_prices.mean()\n",
        "\n",
        "# Population mean (calculated previously)\n",
        "population_mean = statistics.mean(df['Price'])\n",
        "\n",
        "# Print the results\n",
        "print(\"Sample Mean for Wednesdays:\", sample_mean_wednesday)\n",
        "print(\"Population Mean:\", population_mean)\n"
      ],
      "metadata": {
        "colab": {
          "base_uri": "https://localhost:8080/"
        },
        "id": "UGFGJxPkvOF1",
        "outputId": "d014f672-3d20-4af4-997e-5ad3fffe28a7"
      },
      "execution_count": null,
      "outputs": [
        {
          "output_type": "stream",
          "name": "stdout",
          "text": [
            "Sample Mean for Wednesdays: 1550.7060000000001\n",
            "Population Mean: 1560.663453815261\n"
          ]
        }
      ]
    },
    {
      "cell_type": "code",
      "source": [
        "import pandas as pd\n",
        "\n",
        "# Load the data from the Excel file into a DataFrame\n",
        "excel_file_path = '/content/Lab Session1 Data.xlsx'\n",
        "df = pd.read_excel(excel_file_path, sheet_name='IRCTC Stock Price')\n",
        "\n",
        "# Assuming column D is the 'Price' column and column A is the 'Date' column\n",
        "# Adjust the column names accordingly based on your data\n",
        "df['Date'] = pd.to_datetime(df['Date'])  # Convert 'Date' column to datetime\n",
        "\n",
        "# Select the price data for the month of April\n",
        "april_prices = df[(df['Date'].dt.month == 4)]['Price']\n",
        "\n",
        "# Calculate the sample mean for April\n",
        "sample_mean_april = april_prices.mean()\n",
        "\n",
        "# Population mean (calculated previously)\n",
        "population_mean = statistics.mean(df['Price'])\n",
        "\n",
        "# Print the results\n",
        "print(\"Sample Mean for April:\", sample_mean_april)\n",
        "print(\"Population Mean:\", population_mean)\n"
      ],
      "metadata": {
        "colab": {
          "base_uri": "https://localhost:8080/"
        },
        "id": "KXpkk17wvZi4",
        "outputId": "7cb847fe-2232-41d9-d03e-a1792512120b"
      },
      "execution_count": null,
      "outputs": [
        {
          "output_type": "stream",
          "name": "stdout",
          "text": [
            "Sample Mean for April: 1698.9526315789474\n",
            "Population Mean: 1560.663453815261\n"
          ]
        }
      ]
    },
    {
      "cell_type": "code",
      "source": [
        "import pandas as pd\n",
        "import matplotlib.pyplot as plt\n",
        "\n",
        "# Load the data from the Excel file into a DataFrame\n",
        "excel_file_path = '/content/Lab Session1 Data.xlsx'\n",
        "df = pd.read_excel(excel_file_path, sheet_name='IRCTC Stock Price')\n",
        "\n",
        "# Assuming column I is the 'Chg%' column and column A is the 'Date' column\n",
        "# Adjust the column names accordingly based on your data\n",
        "df['Date'] = pd.to_datetime(df['Date'])  # Convert 'Date' column to datetime\n",
        "\n",
        "# Probability of making a loss over the stock\n",
        "loss_probability = len(df[df['Chg%'].apply(lambda x: x < 0)]) / len(df)\n",
        "print(\"Probability of making a loss over the stock:\", loss_probability)\n",
        "\n",
        "#  Probability of making a profit on Wednesday\n",
        "wednesday_profit_probability = len(df[(df['Date'].dt.day_name() == 'Wednesday') & (df['Chg%'] > 0)]) / len(df[df['Date'].dt.day_name() == 'Wednesday'])\n",
        "print(\"Probability of making a profit on Wednesday:\", wednesday_profit_probability)\n",
        "\n",
        "# Task 3: Conditional probability of making profit, given that today is Wednesday\n",
        "conditional_profit_probability = wednesday_profit_probability / len(df[df['Date'].dt.day_name() == 'Wednesday'])\n",
        "print(\"Conditional probability of making profit, given that today is Wednesday:\", conditional_profit_probability)\n",
        "\n",
        "# Task 4: Scatter plot of Chg% data against the day of the week\n",
        "plt.figure(figsize=(10, 6))\n",
        "plt.scatter(df['Date'].dt.dayofweek, df['Chg%'], alpha=0.5)\n",
        "plt.xlabel('Day of the Week (0=Monday, 1=Tuesday, ..., 6=Sunday)')\n",
        "plt.ylabel('Chg%')\n",
        "plt.title('Scatter Plot of Chg% data against the Day of the Week')\n",
        "plt.show()\n"
      ],
      "metadata": {
        "colab": {
          "base_uri": "https://localhost:8080/",
          "height": 616
        },
        "id": "WMdDAMzbzI8h",
        "outputId": "2b6ab184-6664-4a03-abb5-c001ceff382a"
      },
      "execution_count": null,
      "outputs": [
        {
          "output_type": "stream",
          "name": "stdout",
          "text": [
            "Probability of making a loss over the stock: 0.4979919678714859\n",
            "Probability of making a profit on Wednesday: 0.42\n",
            "Conditional probability of making profit, given that today is Wednesday: 0.0084\n"
          ]
        },
        {
          "output_type": "display_data",
          "data": {
            "text/plain": [
              "<Figure size 1000x600 with 1 Axes>"
            ],
            "image/png": "[encoded data removed]"
          },
          "metadata": {}
        }
      ]
    },
    {
      "cell_type": "code",
      "source": [
        "import numpy as np\n",
        "import pandas as pd\n",
        "\n",
        "# Load the data from the Excel file into a DataFrame\n",
        "excel_file_path = '/content/Lab Session1 Data.xlsx'\n",
        "df = pd.read_excel(excel_file_path)\n",
        "\n",
        "\n",
        "matrix_A = df[['Candies (#)', 'Mangoes (Kg)', 'Milk Packets (#)']].to_numpy()\n",
        "matrix_C = df[['Payment (Rs)']].to_numpy()\n",
        "\n",
        "# Calculate the dimensionality of the vector space for Matrix A\n",
        "dimensionality_A = matrix_A.shape[1]\n",
        "print(\"Dimensionality of the vector space for Matrix A:\", dimensionality_A)\n",
        "\n",
        "# Calculate the number of vectors in the vector space\n",
        "num_vectors_A = matrix_A.shape[0]\n",
        "print(\"Number of vectors in the vector space for Matrix A:\", num_vectors_A)\n",
        "\n",
        "# Calculate the rank of Matrix A\n",
        "rank_A = np.linalg.matrix_rank(matrix_A)\n",
        "print(\"Rank of Matrix A:\", rank_A)\n",
        "\n",
        "# Using Pseudo-Inverse to find the cost of each product\n",
        "A_pseudo_inverse = np.linalg.pinv(matrix_A)\n",
        "cost_of_products = np.dot(A_pseudo_inverse, matrix_C)\n",
        "\n",
        "# Using Pseudo-Inverse to calculate the model vector X\n",
        "model_vector_X = np.dot(A_pseudo_inverse, matrix_C)\n",
        "\n",
        "# Print the cost of each product and the model vector X\n",
        "print(\"\\nCost of each product using Pseudo-Inverse:\")\n",
        "print(cost_of_products)\n",
        "\n",
        "print(\"\\nModel Vector X using Pseudo-Inverse:\")\n",
        "print(model_vector_X)\n",
        "\n",
        "X_values_whole_data = np.dot(np.linalg.pinv(df[['Candies (#)', 'Mangoes (Kg)', 'Milk Packets (#)']].to_numpy()), df[['Payment (Rs)']].to_numpy())\n",
        "\n",
        "# Check if X_values_whole_data and model_vector_X are approximately equal\n",
        "are_X_values_equal = np.allclose(X_values_whole_data, model_vector_X)\n",
        "print(\"Result:\", are_X_values_equal)\n"
      ],
      "metadata": {
        "colab": {
          "base_uri": "https://localhost:8080/"
        },
        "id": "BR2V5iCE1Org",
        "outputId": "64cce451-9c74-4fa0-fad1-a793241a63de"
      },
      "execution_count": null,
      "outputs": [
        {
          "output_type": "stream",
          "name": "stdout",
          "text": [
            "Dimensionality of the vector space for Matrix A: 3\n",
            "Number of vectors in the vector space for Matrix A: 10\n",
            "Rank of Matrix A: 3\n",
            "\n",
            "Cost of each product using Pseudo-Inverse:\n",
            "[[ 1.]\n",
            " [55.]\n",
            " [18.]]\n",
            "\n",
            "Model Vector X using Pseudo-Inverse:\n",
            "[[ 1.]\n",
            " [55.]\n",
            " [18.]]\n",
            "\n",
            "Do the X values obtained from square matrices match the one obtained from the whole purchase data matrix? True\n"
          ]
        }
      ]
    }
  ]
}