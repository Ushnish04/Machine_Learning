{
  "nbformat": 4,
  "nbformat_minor": 0,
  "metadata": {
    "colab": {
      "provenance": []
    },
    "kernelspec": {
      "name": "python3",
      "display_name": "Python 3"
    },
    "language_info": {
      "name": "python"
    }
  },
  "cells": [
    {
      "cell_type": "code",
      "execution_count": 8,
      "metadata": {
        "colab": {
          "base_uri": "https://localhost:8080/"
        },
        "id": "dX_z1a2TzwPM",
        "outputId": "7a048e87-a3b9-4ff9-b7b5-9c990483341b"
      },
      "outputs": [
        {
          "output_type": "stream",
          "name": "stdout",
          "text": [
            "Enter a Word: Ushnish\n",
            "Number of Vowels = 2\n",
            "Number of Consonants = 5\n"
          ]
        }
      ],
      "source": [
        "def letter_count(input_string):\n",
        "    # Convert the input string to lowercase to handle both upper and lower case characters consistently\n",
        "    input_string = input_string.lower()\n",
        "\n",
        "    # Initialize counters for vowels and consonants\n",
        "    vowels_count = 0\n",
        "    consonants_count = 0\n",
        "\n",
        "    # Define a list of vowels\n",
        "    vowels = ['a', 'e', 'i', 'o', 'u']\n",
        "\n",
        "    # Iterate through each character in the input string\n",
        "    for i in input_string:\n",
        "        # Check if the character is a vowel\n",
        "        if i in vowels:\n",
        "            vowels_count += 1\n",
        "        else:\n",
        "            # If not a vowel, it is a consonant\n",
        "            consonants_count += 1\n",
        "\n",
        "    # Display the results\n",
        "    print(f\"Number of Vowels = {vowels_count}\")\n",
        "    print(f\"Number of Consonants = {consonants_count}\")\n",
        "\n",
        "# Get user input for a word\n",
        "input_string = input(\"Enter a Word: \")\n",
        "\n",
        "# Call the letter_count function with the user-inputted word\n",
        "letter_count(input_string)\n"
      ]
    },
    {
      "cell_type": "code",
      "source": [
        "5def matrix_creation(m, n):\n",
        "    # Initialize an empty matrix M\n",
        "    M = []\n",
        "\n",
        "    # Iterate over rows\n",
        "    for i in range(m):\n",
        "        row = []\n",
        "\n",
        "        # Iterate over columns\n",
        "        for k in range(n):\n",
        "            # Get user input for each element in the matrix\n",
        "            element = int(input(f\"Enter element for row {i + 1}, column {k + 1}: \"))\n",
        "            row.append(element)\n",
        "\n",
        "        # Append the row to the matrix\n",
        "        M.append(row)\n",
        "\n",
        "    # Return the created matrix\n",
        "    return M\n",
        "\n",
        "def check_matrix(n1, m2):\n",
        "    # Check if the number of columns in the first matrix is equal to the number of rows in the second matrix\n",
        "    if n1 == m2:\n",
        "        return True\n",
        "    else:\n",
        "        return False\n",
        "\n",
        "def matrix_multiply(matrix_a, matrix_b, rows1, rows2, cols1, cols2):\n",
        "    # Check if matrices are multiplicable\n",
        "    if cols1 != rows2:\n",
        "        print(\"Error: Matrices Not Multiplicable\")\n",
        "        return None\n",
        "\n",
        "    # Initialize the result matrix with zeros\n",
        "    result_matrix = [[0 for _ in range(cols2)] for _ in range(rows1)]\n",
        "\n",
        "    # Perform matrix multiplication\n",
        "    for i in range(rows1):\n",
        "        for j in range(cols2):\n",
        "            for k in range(cols1):\n",
        "                result_matrix[i][j] += matrix_a[i][k] * matrix_b[k][j]\n",
        "\n",
        "    # Return the resultant matrix\n",
        "    return result_matrix\n",
        "\n",
        "# Get user input for the dimensions of the matrices\n",
        "rows1 = int(input(\"Enter the number of Rows for Matrix 1: \"))\n",
        "cols1 = int(input(\"Enter the number of Columns for Matrix 1: \"))\n",
        "rows2 = int(input(\"Enter the number of Rows for Matrix 2: \"))\n",
        "cols2 = int(input(\"Enter the number of Columns for Matrix 2: \"))\n",
        "\n",
        "# Create matrices M1 and M2\n",
        "M1 = matrix_creation(rows1, cols1)\n",
        "M2 = matrix_creation(rows2, cols2)\n",
        "\n",
        "# Check if matrices are multiplicable\n",
        "if check_matrix(cols1, rows2):\n",
        "    # Multiply matrices and display the result\n",
        "    result = matrix_multiply(M1, M2, rows1, rows2, cols1, cols2)\n",
        "    print(\"\\nResultant Matrix:\")\n",
        "    for r in result:\n",
        "        print(r)\n",
        "else:\n",
        "    print(\"Error: Matrices Not Multiplicable\")\n"
      ],
      "metadata": {
        "id": "UePIG7k92lxq",
        "colab": {
          "base_uri": "https://localhost:8080/"
        },
        "outputId": "b8e4eb3f-7980-4c99-a9c4-059adaceaafc"
      },
      "execution_count": 9,
      "outputs": [
        {
          "output_type": "stream",
          "name": "stdout",
          "text": [
            "Enter the number of Rows for Matrix 1: 2\n",
            "Enter the number of Columns for Matrix 1: 2\n",
            "Enter the number of Rows for Matrix 2: 2\n",
            "Enter the number of Columns for Matrix 2: 2\n",
            "Enter element for row 1, column 1: 3\n",
            "Enter element for row 1, column 2: 4\n",
            "Enter element for row 2, column 1: 5\n",
            "Enter element for row 2, column 2: 6\n",
            "Enter element for row 1, column 1: 3\n",
            "Enter element for row 1, column 2: 4\n",
            "Enter element for row 2, column 1: 5\n",
            "Enter element for row 2, column 2: 6\n",
            "\n",
            "Resultant Matrix:\n",
            "[29, 36]\n",
            "[45, 56]\n"
          ]
        }
      ]
    },
    {
      "cell_type": "code",
      "source": [
        "def find_common_numbers(n1, n2):\n",
        "    # Find common elements between two lists using loops\n",
        "    common_numbers = []\n",
        "\n",
        "    for i in n1:\n",
        "        if i in n2 and i not in common_numbers:\n",
        "            common_numbers.append(i)\n",
        "\n",
        "    return common_numbers\n",
        "\n",
        "# Get user input for two lists\n",
        "print(\"Enter elements for the first list:\")\n",
        "list_n1 = [int(element) for element in input().split()]\n",
        "\n",
        "print(\"Enter elements for the second list:\")\n",
        "list_n2 = [int(element) for element in input().split()]\n",
        "\n",
        "# Find and print common elements\n",
        "common_numbers = find_common_numbers(list_n1, list_n2)\n",
        "\n",
        "if common_numbers:\n",
        "    print(f'Common Numbers: {common_numbers}')\n",
        "    print(f'Number of common Numbers: {len(common_numbers)}')\n",
        "else:\n",
        "    print('No common Numbers found.')\n"
      ],
      "metadata": {
        "colab": {
          "base_uri": "https://localhost:8080/"
        },
        "id": "vP2G7ah_1C60",
        "outputId": "32ead877-5983-4294-9341-95634c103b1e"
      },
      "execution_count": 10,
      "outputs": [
        {
          "output_type": "stream",
          "name": "stdout",
          "text": [
            "Enter elements for the first list:\n",
            "3 7 1 8 3 9\n",
            "Enter elements for the second list:\n",
            "4 7 2 2 8 3\n",
            "Common Numbers: [3, 7, 8]\n",
            "Number of common Numbers: 3\n"
          ]
        }
      ]
    },
    {
      "cell_type": "code",
      "source": [
        "def matrix_creation(m, n):\n",
        "    # Initialize an empty matrix M\n",
        "    M = []\n",
        "\n",
        "    # Iterate over rows\n",
        "    for i in range(m):\n",
        "        row = []\n",
        "\n",
        "        # Iterate over columns\n",
        "        for k in range(n):\n",
        "            # Get user input for each element in the matrix\n",
        "            element = int(input(f\"Enter element for row {i + 1}, column {k + 1}: \"))\n",
        "            row.append(element)\n",
        "\n",
        "        # Append the row to the matrix\n",
        "        M.append(row)\n",
        "\n",
        "    # Return the created matrix\n",
        "    return M\n",
        "\n",
        "def print_matrix(matrix):\n",
        "    # Iterate over rows and print each row\n",
        "    for row in matrix:\n",
        "        print(row)\n",
        "\n",
        "def transpose_matrix(matrix):\n",
        "    # Get the number of rows and columns in the matrix\n",
        "    rows, cols = len(matrix), len(matrix[0])\n",
        "\n",
        "    # Initialize a new matrix to store the transposed elements\n",
        "    transposed_matrix = [[0] * cols for _ in range(rows)]\n",
        "\n",
        "    # Perform the transpose operation\n",
        "    for i in range(rows):\n",
        "        for j in range(cols):\n",
        "            transposed_matrix[j][i] = matrix[i][j]\n",
        "\n",
        "    # Return the transposed matrix\n",
        "    return transposed_matrix\n",
        "\n",
        "# Get user input for the dimensions of the matrix\n",
        "rows1 = int(input(\"Enter the number of Rows: \"))\n",
        "cols1 = int(input(\"Enter the number of Columns: \"))\n",
        "\n",
        "# Create matrix M1\n",
        "M1 = matrix_creation(rows1, cols1)\n",
        "\n",
        "# Display the original matrix\n",
        "print(\"Original Matrix:\")\n",
        "print_matrix(M1)\n",
        "\n",
        "# Finding and printing the transpose of the matrix\n",
        "transposed_M1 = transpose_matrix(M1)\n",
        "print(\"\\nTranspose of the Matrix:\")\n",
        "print_matrix(transposed_M1)\n"
      ],
      "metadata": {
        "id": "OiR34GKV5TiM",
        "colab": {
          "base_uri": "https://localhost:8080/"
        },
        "outputId": "b85c8ce2-58dd-4c66-b07a-f94b4061ca06"
      },
      "execution_count": 11,
      "outputs": [
        {
          "output_type": "stream",
          "name": "stdout",
          "text": [
            "Enter the number of Rows: 2\n",
            "Enter the number of Columns: 2\n",
            "Enter element for row 1, column 1: 2\n",
            "Enter element for row 1, column 2: 3\n",
            "Enter element for row 2, column 1: 4\n",
            "Enter element for row 2, column 2: 5\n",
            "Original Matrix:\n",
            "[2, 3]\n",
            "[4, 5]\n",
            "\n",
            "Transpose of the Matrix:\n",
            "[2, 4]\n",
            "[3, 5]\n"
          ]
        }
      ]
    }
  ]
}