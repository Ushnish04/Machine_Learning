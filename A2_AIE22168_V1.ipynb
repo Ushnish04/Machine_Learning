{
  "nbformat": 4,
  "nbformat_minor": 0,
  "metadata": {
    "colab": {
      "provenance": []
    },
    "kernelspec": {
      "name": "python3",
      "display_name": "Python 3"
    },
    "language_info": {
      "name": "python"
    }
  },
  "cells": [
    {
      "cell_type": "code",
      "execution_count": null,
      "metadata": {
        "colab": {
          "base_uri": "https://localhost:8080/"
        },
        "id": "q7fOOXMc4B6w",
        "outputId": "83b6e826-0de7-4d9a-835b-5e28b9f803dc"
      },
      "outputs": [
        {
          "output_type": "stream",
          "name": "stdout",
          "text": [
            "Enter the dimensionality of the vectors: 2\n",
            "Enter the value for dimension 1: 4\n",
            "Enter the value for dimension 2: 7\n",
            "Enter the value for dimension 1: 9\n",
            "Enter the value for dimension 2: 2\n",
            "Vector A: [4.0, 7.0]\n",
            "Vector B: [9.0, 2.0]\n",
            "Euclidean Distance: 7.0710678118654755\n",
            "Manhattan Distance: 10.0\n"
          ]
        }
      ],
      "source": [
        "import math\n",
        "\n",
        "def euclidean_distance(vector1, vector2):\n",
        "    if len(vector1) != len(vector2):\n",
        "       print(\"Vectors must have the same dimensionality\")\n",
        "\n",
        "    squared_diff_sum = sum((v1 - v2) ** 2 for v1, v2 in zip(vector1, vector2))\n",
        "    return math.sqrt(squared_diff_sum)\n",
        "\n",
        "def manhattan_distance(vector1, vector2):\n",
        "    if len(vector1) != len(vector2):\n",
        "       print(\"Vectors must have the same dimensionality\")\n",
        "\n",
        "    return sum(abs(v1 - v2) for v1, v2 in zip(vector1, vector2))\n",
        "\n",
        "def input_vector(dimensiom):\n",
        "    vector = []\n",
        "    for i in range(dimension):\n",
        "        value = float(input(f\"Enter the value for dimension {i + 1}: \"))\n",
        "        vector.append(value)\n",
        "    return vector\n",
        "\n",
        "# Get dimensionality of vectors\n",
        "dimension = int(input(\"Enter the dimensionality of the vectors: \"))\n",
        "\n",
        "# Input vectors using loops\n",
        "vector_a = input_vector(dimension)\n",
        "vector_b = input_vector(dimension)\n",
        "\n",
        "# Calculate distances\n",
        "euclidean_result = euclidean_distance(vector_a, vector_b)\n",
        "manhattan_result = manhattan_distance(vector_a, vector_b)\n",
        "\n",
        "# Display results\n",
        "print(f\"Vector A: {vector_a}\")\n",
        "print(f\"Vector B: {vector_b}\")\n",
        "print(f\"Euclidean Distance: {euclidean_result}\")\n",
        "print(f\"Manhattan Distance: {manhattan_result}\")\n"
      ]
    },
    {
      "cell_type": "code",
      "source": [
        "import math\n",
        "from collections import Counter\n",
        "\n",
        "def euclidean_distance(point1, point2):\n",
        "    return math.sqrt((point1[0] - point2[0])**2 + (point1[1] - point2[1])**2)\n",
        "\n",
        "def classify_a_point(points, test_point, k=3):\n",
        "    # Initialize an empty list to store distances and corresponding groups\n",
        "    distances = []\n",
        "\n",
        "    # Iterate over each group and its features in the points dictionary\n",
        "    for group, features in points.items():\n",
        "        # Iterate over each feature in the current group\n",
        "        for feature in features:\n",
        "            # Calculate the Euclidean distance and append the result as a tuple to the distances list\n",
        "            distance = euclidean_distance(test_point, feature)\n",
        "            distances.append((group, distance))\n",
        "\n",
        "    # Find the k-nearest neighbors and count occurrences of each group\n",
        "    nearest_neighbors = sorted(distances, key=lambda x: x[1])[:k]\n",
        "    group_counts = Counter(group for group, _ in nearest_neighbors)\n",
        "\n",
        "    # Return the group with the maximum count (majority class)\n",
        "    return max(group_counts, key=group_counts.get)\n",
        "\n",
        "def main():\n",
        "    points = {0: [(1, 12), (2, 5), (3, 6), (3, 10), (3.5, 8), (2, 11), (2, 9), (1, 7)],\n",
        "              1: [(5, 3), (3, 2), (1.5, 9), (7, 2), (6, 1), (3.8, 1), (5.6, 4), (4, 2), (2, 5)]}\n",
        "\n",
        "    # Take input for the test point\n",
        "    x = float(input(\"Enter the x-coordinate of the test point: \"))\n",
        "    y = float(input(\"Enter the y-coordinate of the test point: \"))\n",
        "    test_point = (x, y)\n",
        "\n",
        "    k = 3\n",
        "\n",
        "    result = classify_a_point(points, test_point, k)\n",
        "    print(f\"The value classified to the unknown point is: {result}\")\n",
        "\n",
        "if __name__ == '__main__':\n",
        "    main()\n"
      ],
      "metadata": {
        "colab": {
          "base_uri": "https://localhost:8080/"
        },
        "id": "1dUJsoFP6uZA",
        "outputId": "74d803cb-b763-4571-ec45-0e1fcfa80a02"
      },
      "execution_count": null,
      "outputs": [
        {
          "output_type": "stream",
          "name": "stdout",
          "text": [
            "Enter the x-coordinate of the test point: 4\n",
            "Enter the y-coordinate of the test point: 7\n",
            "The value classified to the unknown point is: 0\n"
          ]
        }
      ]
    },
    {
      "cell_type": "code",
      "source": [
        "import csv\n",
        "\n",
        "def label_encode_csv(input_file, output_file):\n",
        "    # Read CSV file and extract categorical column\n",
        "    with open(input_file, 'r') as csv_file:\n",
        "        reader = csv.reader(csv_file)\n",
        "        data = list(reader)\n",
        "\n",
        "    categorical_column = [row[0] for row in data]\n",
        "\n",
        "    # Perform label encoding\n",
        "    labels = {}\n",
        "    encoded_data = []\n",
        "\n",
        "    for value in categorical_column:\n",
        "        if value not in labels:\n",
        "            labels[value] = len(labels) + 1  # Assign a unique label for each category\n",
        "        encoded_data.append(labels[value])\n",
        "\n",
        "    # Write the original and encoded data to a new CSV file\n",
        "    with open(output_file, 'w', newline='') as csv_outfile:\n",
        "        writer = csv.writer(csv_outfile)\n",
        "        for original_value, encoded_value in zip(categorical_column, encoded_data):\n",
        "            writer.writerow([original_value, encoded_value])\n",
        "\n",
        "# Example usage:\n",
        "input_csv_file = '/content/Ml_Data.csv'\n",
        "output_csv_file = '/content/output.csv'\n",
        "\n",
        "label_encode_csv(input_csv_file, output_csv_file)\n"
      ],
      "metadata": {
        "id": "3PY3oj2u19kL"
      },
      "execution_count": 4,
      "outputs": []
    },
    {
      "cell_type": "code",
      "source": [
        "import csv\n",
        "from collections import OrderedDict\n",
        "\n",
        "def one_hot_encode_csv(input_file, output_file, column_index):\n",
        "    # Read CSV file and extract the specified categorical column\n",
        "    with open(input_file, 'r') as csv_file:\n",
        "        reader = csv.reader(csv_file)\n",
        "        data = list(reader)\n",
        "\n",
        "    # Extract unique categories and maintain order\n",
        "    unique_categories = list(OrderedDict.fromkeys(row[column_index] for row in data if row))\n",
        "\n",
        "    # Perform one-hot encoding\n",
        "    encoded_data = []\n",
        "\n",
        "    for row in data:\n",
        "        if not row:\n",
        "            continue  # Skip empty rows\n",
        "        value = row[column_index]\n",
        "\n",
        "       # one-hot encoding\n",
        "        encoded_row = []\n",
        "        for category in unique_categories:\n",
        "            if value == category:\n",
        "                encoded_row.append(1)\n",
        "            else:\n",
        "                encoded_row.append(0)\n",
        "\n",
        "        encoded_data.append(encoded_row)\n",
        "\n",
        "    # Write the encoded data to a new CSV file\n",
        "    with open(output_file, 'w', newline='') as csv_outfile:\n",
        "        writer = csv.writer(csv_outfile)\n",
        "\n",
        "        # Write header\n",
        "        header = [\"Profession_\" + category for category in unique_categories]\n",
        "        writer.writerow(header)\n",
        "\n",
        "        # Write encoded rows\n",
        "        for encoded_row in encoded_data:\n",
        "            writer.writerow(encoded_row)\n",
        "\n",
        "# Example usage:\n",
        "input_csv_file = '/content/Ml_Data.csv'\n",
        "output_csv_file = '/content/output2.csv'\n",
        "column_to_encode = 0  # Index of the categorical column\n",
        "\n",
        "one_hot_encode_csv(input_csv_file, output_csv_file, column_to_encode)\n",
        "\n"
      ],
      "metadata": {
        "id": "D2aLbk4-8GSI"
      },
      "execution_count": 6,
      "outputs": []
    }
  ]
}